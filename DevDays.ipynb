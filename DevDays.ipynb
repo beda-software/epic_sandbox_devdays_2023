{
 "cells": [
  {
   "cell_type": "markdown",
   "id": "551d8e32-82f7-4494-9912-0dcd9525d2df",
   "metadata": {},
   "source": [
    "# DevDays 2023: Let's Build! Fetch data from Epic using FHIR API: Challenges and solutions"
   ]
  },
  {
   "cell_type": "markdown",
   "id": "5a176fcd-d6e7-4387-90d9-12982c369b1c",
   "metadata": {},
   "source": [
    "![image](img/DevDays-01-Cover.jpg)"
   ]
  },
  {
   "cell_type": "markdown",
   "id": "1dec819a-0947-482e-83b8-be6c6619d8d1",
   "metadata": {
    "jupyter": {
     "source_hidden": true
    }
   },
   "source": [
    "- This Let's Build! session will delve into the challenges and solutions for integrating a medical application with the Epic FHIR API. Despite being based on the FHIR specification, we found that the Epic FHIR API did not fully support all of its features, making it difficult to discover patients, and encounters, and get incremental resource loading. \n",
    "- During the live code session we will implement integration for a simple medical app that fetches and displays laboratory observations for patients in a specific hospital department. We will use Python, Jupyter notebook, and the fhir-py library to implement this integration.\n",
    "- Alex will face some challenges like limitations in search parameters to get a list of patients and encounters and filter FHIR resources by date. He will consider some alternatives like HL7v2 ADT feed and CDS Hooks that can help to overcome these limitations.\n",
    "- Keywords: Epic; Python; CDS Hooks"
   ]
  },
  {
   "cell_type": "markdown",
   "id": "1f0acf26-3dbd-4a06-b0d8-c834dabf22e0",
   "metadata": {},
   "source": [
    "### Clone and play\n",
    "https://github.com/beda-software/epic_sandbox_devdays_2023"
   ]
  },
  {
   "cell_type": "markdown",
   "id": "30f245ef-d542-4521-86bb-c2ec66167d42",
   "metadata": {},
   "source": [
    "## Context and problem\n",
    "- Epic FHIR API is patient-centric\n",
    "- What if we want to build an app for practitioners or to analyze data across different patients"
   ]
  },
  {
   "cell_type": "markdown",
   "id": "3fbc2782-bf80-4210-aa3c-eea967f6ecf5",
   "metadata": {},
   "source": [
    "### What are we going to build?\n",
    "- An app that displays patients that have some red blood cell data\n",
    "- A source of these data is Epic"
   ]
  },
  {
   "cell_type": "markdown",
   "id": "7ed46d7d-42e2-4b54-a6fa-d83ca84e25e0",
   "metadata": {},
   "source": [
    "### How are we going to build this?\n",
    "- Use Epic FHIR API (Sandbox) to fetch the data (patients and observations)\n",
    "- Load data to our FHIR server\n",
    "- Search data using our FHIR server"
   ]
  },
  {
   "cell_type": "markdown",
   "id": "e11031dd-9548-4e46-a15e-f29d7a20104f",
   "metadata": {},
   "source": [
    "## Let's start"
   ]
  },
  {
   "cell_type": "markdown",
   "id": "a8938351-5b57-4869-ba88-415d65ff30cc",
   "metadata": {},
   "source": [
    "### Connect to Epic Sandbox"
   ]
  },
  {
   "cell_type": "markdown",
   "id": "3db2de8b-73f2-4882-a84f-49c4e208df6f",
   "metadata": {},
   "source": [
    "#### Register an app "
   ]
  },
  {
   "cell_type": "markdown",
   "id": "fa9ccc89-ae0e-4d55-af2a-9658a94d29ec",
   "metadata": {},
   "source": [
    "https://fhir.epic.com/Developer/Apps"
   ]
  },
  {
   "cell_type": "markdown",
   "id": "be262ce2-8c2d-46e4-982d-e96fff43ee49",
   "metadata": {},
   "source": [
    "#### Create a certificate"
   ]
  },
  {
   "cell_type": "code",
   "execution_count": null,
   "id": "b55907db-cd83-41bd-9dac-b1795e64fc87",
   "metadata": {},
   "outputs": [],
   "source": [
    "# Create a private key\n",
    "!openssl genrsa -out keys/devdays-sandbox-1.pem 2048"
   ]
  },
  {
   "cell_type": "code",
   "execution_count": null,
   "id": "98451b40-6e73-4830-ba72-6bde585acc30",
   "metadata": {},
   "outputs": [],
   "source": [
    "# Create a public key\n",
    "!openssl req -new -x509 -key keys/devdays-sandbox-1.pem -out keys/devdays-sandbox-publickey509.pem -subj '/CN=devdays2023'"
   ]
  },
  {
   "cell_type": "code",
   "execution_count": null,
   "id": "986c21ef-1f9d-4fd6-8313-e942cfa98f2f",
   "metadata": {},
   "outputs": [],
   "source": [
    "# Find the Public Key Certificate Fingerprint\n",
    "!openssl x509 -noout -fingerprint -sha1 -inform pem -in keys/devdays-sandbox-publickey509.pem"
   ]
  },
  {
   "cell_type": "code",
   "execution_count": null,
   "id": "f43aeccd-7b9e-4235-b888-dfe5c8e20c8e",
   "metadata": {},
   "outputs": [],
   "source": [
    "import pprint\n",
    "\n",
    "pp = pprint.PrettyPrinter(indent=4)"
   ]
  },
  {
   "cell_type": "code",
   "execution_count": null,
   "id": "50caaa64-0127-4740-8ecf-ca963899cfde",
   "metadata": {},
   "outputs": [],
   "source": [
    "EPIC_SANDBOX_BASE_URL = \"https://fhir.epic.com/interconnect-fhir-oauth\"\n",
    "FHIR_PATH = \"api/FHIR/R4\"\n",
    "EPIC_CLIENT_ID=\"76596c9b-ec4e-4313-831a-9af4ea0b8b2b\"\n",
    "PRIVATE_KEY_PATH = \"keys/devdays-sandbox.pem\""
   ]
  },
  {
   "cell_type": "code",
   "execution_count": null,
   "id": "5f4d9bbe-6fc6-47b4-ac41-a090f5486941",
   "metadata": {},
   "outputs": [],
   "source": [
    "# Get metadata\n",
    "import requests\n",
    "\n",
    "metadata_url = f\"{EPIC_SANDBOX_BASE_URL}/{FHIR_PATH}/metadata\"\n",
    "metadata_headers = {\"Accept\": \"application/fhir+json\", \"Epic-Client-ID\": EPIC_CLIENT_ID}\n",
    "metadata_response = requests.get(metadata_url, headers=metadata_headers)\n",
    "metadata_all = metadata_response.json()\n",
    "metadata_auth = metadata_all[\"rest\"][0][\"security\"][\"extension\"]\n",
    "\n",
    "pp.pprint(metadata_auth)"
   ]
  },
  {
   "cell_type": "code",
   "execution_count": null,
   "id": "2ea2d49b-6169-48ba-965c-22c3706d3253",
   "metadata": {},
   "outputs": [],
   "source": [
    "TOKEN_PATH = \"oauth2/token\""
   ]
  },
  {
   "cell_type": "markdown",
   "id": "98499e53-38f7-4021-84f7-ef7b3e27fd06",
   "metadata": {},
   "source": [
    "#### Auth"
   ]
  },
  {
   "cell_type": "code",
   "execution_count": null,
   "id": "6a98d2e8-351a-48de-bacb-2fd77324d79a",
   "metadata": {},
   "outputs": [],
   "source": [
    "import uuid\n",
    "import jwt\n",
    "from datetime import datetime, timedelta, timezone\n",
    "\n",
    "\n",
    "payload = {\n",
    "    \"iss\": EPIC_CLIENT_ID,\n",
    "    \"sub\": EPIC_CLIENT_ID,\n",
    "    \"aud\": f\"{EPIC_SANDBOX_BASE_URL}/{TOKEN_PATH}\",\n",
    "    \"jti\": str(uuid.uuid4()),\n",
    "    \"iat\": datetime.now(timezone.utc),\n",
    "    \"exp\": datetime.now(timezone.utc) + timedelta(minutes=1), # max 5 minutes!\n",
    "}\n",
    "\n",
    "with open(PRIVATE_KEY_PATH, \"rb\") as fh:\n",
    "    signing_key = fh.read()\n",
    "\n",
    "\n",
    "jwt_token = jwt.encode(payload, signing_key, algorithm=\"RS384\")\n",
    "\n",
    "pp.pprint(jwt_token)"
   ]
  },
  {
   "cell_type": "code",
   "execution_count": null,
   "id": "1ced1c27-d21d-4cff-8b58-ed666926df96",
   "metadata": {},
   "outputs": [],
   "source": [
    "auth_token_url = f\"{EPIC_SANDBOX_BASE_URL}/{TOKEN_PATH}\"\n",
    "\n",
    "headers = {'Content-Type': 'application/x-www-form-urlencoded'}\n",
    "\n",
    "data = {\n",
    "    \"grant_type\": \"client_credentials\",\n",
    "    \"client_assertion_type\": \"urn:ietf:params:oauth:client-assertion-type:jwt-bearer\",\n",
    "    \"client_assertion\": jwt_token,\n",
    "}\n",
    "\n",
    "resp = requests.post(auth_token_url, headers=headers, data=data)\n",
    "print(resp)\n",
    "token_response_json = resp.json()\n",
    "pp.pprint(token_response_json)\n",
    "\n",
    "acces_token = token_response_json[\"access_token\"]"
   ]
  },
  {
   "cell_type": "markdown",
   "id": "49768304-735e-4eaa-b35b-7fd8826eaf42",
   "metadata": {},
   "source": [
    "#### Setup an Epic client"
   ]
  },
  {
   "cell_type": "code",
   "execution_count": null,
   "id": "f509eef8-1786-4715-8d78-01eecf8055dd",
   "metadata": {},
   "outputs": [],
   "source": [
    "from fhirpy import SyncFHIRClient\n",
    "\n",
    "epic_client = SyncFHIRClient(\n",
    "    f\"{EPIC_SANDBOX_BASE_URL}/{FHIR_PATH}\",\n",
    "    authorization=f\"Bearer {acces_token}\",\n",
    ")"
   ]
  },
  {
   "cell_type": "markdown",
   "id": "cd5e4c29-70df-4c39-8b2d-9d90afa2d186",
   "metadata": {},
   "source": [
    "#### Test Epic client"
   ]
  },
  {
   "cell_type": "code",
   "execution_count": null,
   "id": "578b51e3-f16e-45de-852a-5c9222483db4",
   "metadata": {
    "scrolled": true
   },
   "outputs": [],
   "source": [
    "patient_powell = epic_client.reference('Patient', 'eAB3mDIBBcyUKviyzrxsnAw3').to_resource()\n",
    "pp.pprint(patient_powell.serialize())"
   ]
  },
  {
   "cell_type": "markdown",
   "id": "48236386-3b63-48dd-b729-c81bce26222a",
   "metadata": {},
   "source": [
    "### Set up our FHIR server "
   ]
  },
  {
   "cell_type": "code",
   "execution_count": null,
   "id": "af27cd13-c8e8-4749-8efc-f4df52410b40",
   "metadata": {},
   "outputs": [],
   "source": [
    "# Aidbox client\n",
    "aidbox_url = \"https://devdays2023test.aidbox.app\"\n",
    "basic_token = \"YmFzaWM6c2VjcmV0\"\n",
    "\n",
    "aidbox_client = SyncFHIRClient(\n",
    "    f\"{aidbox_url}/fhir\",\n",
    "    authorization=f\"Basic {basic_token}\",\n",
    ")\n"
   ]
  },
  {
   "cell_type": "code",
   "execution_count": null,
   "id": "5084aae7-45e9-43ca-99d6-bc724555677c",
   "metadata": {},
   "outputs": [],
   "source": [
    "# Test connection to Aidbox\n",
    "location = aidbox_client.reference('Location', '24e3f3fe-214a-4e71-b0d7-f6f546a3383d').to_resource()\n",
    "print(location)\n",
    "# aidbox_metadata = aidbox_client.execute(\"$metadata\", method=\"GET\")\n",
    "# print(aidbox_metadata)"
   ]
  },
  {
   "cell_type": "markdown",
   "id": "a8717ea2-3061-4d17-bd70-2d2d48eb5f21",
   "metadata": {},
   "source": [
    "### Find observations"
   ]
  },
  {
   "cell_type": "markdown",
   "id": "ca954bdc-2b42-4f6f-93c6-e4a23615469c",
   "metadata": {},
   "source": [
    "![image](img/DevDays-02-Background.jpg)"
   ]
  },
  {
   "cell_type": "markdown",
   "id": "98954811-085c-4ee8-be52-6668ceefae67",
   "metadata": {},
   "source": [
    "https://fhir.epic.com/Sandbox?api=999"
   ]
  },
  {
   "cell_type": "code",
   "execution_count": null,
   "id": "8ebf122a-00e9-4c86-a828-9f0da9ce78e7",
   "metadata": {
    "scrolled": true
   },
   "outputs": [],
   "source": [
    "# LIMITED observation search\n",
    "labs_all = epic_client.resources(\"Observation\").search(category=\"laboratory\").fetch_all()"
   ]
  },
  {
   "cell_type": "code",
   "execution_count": null,
   "id": "431ce2d9-141e-4a1b-8047-e705d3e51e2b",
   "metadata": {
    "scrolled": true
   },
   "outputs": [],
   "source": [
    "# LIMITED encounter search\n",
    "encounters_all = epic_client.resources(\"Encounter\").search(date=\"2021\").fetch_all()"
   ]
  },
  {
   "cell_type": "code",
   "execution_count": null,
   "id": "7b70f2e5-9905-4b80-931d-a1b9b21236b6",
   "metadata": {
    "scrolled": true
   },
   "outputs": [],
   "source": [
    "# LIMITED patient search\n",
    "patient_list = epic_client.resources(\"Patient\").fetch_all()\n",
    "print(patient_list)"
   ]
  },
  {
   "cell_type": "code",
   "execution_count": null,
   "id": "5aa294ac-8ff4-46a7-979b-44a847eb2e7b",
   "metadata": {},
   "outputs": [],
   "source": []
  },
  {
   "cell_type": "markdown",
   "id": "7734c00a-ac6d-4221-8c6e-93f8fc235075",
   "metadata": {},
   "source": [
    "### ADT Feed"
   ]
  },
  {
   "cell_type": "markdown",
   "id": "082f7031-e342-4df5-8fbe-cbe2b3830d5c",
   "metadata": {},
   "source": [
    "[Epic Documentation Interface/HL7v2](https://open.epic.com/Interface/HL7v2)"
   ]
  },
  {
   "cell_type": "markdown",
   "id": "2e9b1501-ad1e-4703-b0f2-3b4b60b7b0e4",
   "metadata": {},
   "source": [
    "![image](img/opa-epic.png)"
   ]
  },
  {
   "cell_type": "markdown",
   "id": "35c314ce-7d6d-4307-8606-2f05d791d2a1",
   "metadata": {},
   "source": [
    "There are many event types"
   ]
  },
  {
   "cell_type": "code",
   "execution_count": null,
   "id": "8141b560-fb58-4320-b665-287e7f628f83",
   "metadata": {},
   "outputs": [],
   "source": [
    "## ADT Messsage example\n",
    "\n",
    "adt_message_powell = \"\"\"\n",
    "MSH|^~\\&|EPIC|EMC|||20150601135823|ADTADM|ADT^A01^ADT_A01|7923\n",
    "EVN|A01|20150601135823||ADT_EVENT|FS USER^ADT^ADMIN^^^^^^EHS^^^^^EHSMH|20150601135800\n",
    "PID|eAB3mDIBBcyUKviyzrxsnAw3||E4330777^^^EPIC^MRN~204074777^^^EPI^MR||Does^John^^^^^D||19700601|M|||^^^^^US^L|||||||25234|000-00-0000|||||||||||N\n",
    "PD1|||EHS HOSPITAL^^10101\n",
    "PV1|1|EMERGENCY|EMERG^FT13^FT13^^^^^^^^DEPID|EL||||||Emergency||||Non-Healthcr||||||\n",
    "SELF|||||||||||||||||||||Adm*Conf|||20150601135800\n",
    "PV2||GENERAL|||||||||||||||||||n|N||||||||||||||||Ambulance\n",
    "GT1|1|2454|TESTBILL^EDTWORRRRR^^||^^^^^US|||19700601|M|P/F|SLF|000-00-0000\n",
    "ZG1||||10\n",
    "\"\"\"\n",
    "print(adt_message_powell)"
   ]
  },
  {
   "cell_type": "code",
   "execution_count": null,
   "id": "99baddaa-541f-4544-84af-59c33d98e840",
   "metadata": {},
   "outputs": [],
   "source": [
    "import hl7\n",
    "\n",
    "hl7_message = hl7.parse(adt_message_powell.replace(\"\\n\", \"\\r\").strip())\n",
    "pid_segment = hl7_message.segment(\"PID\")\n",
    "print(pid_segment)"
   ]
  },
  {
   "cell_type": "code",
   "execution_count": null,
   "id": "ec2b72a6-db58-4ed5-b05a-afb33560ffa2",
   "metadata": {},
   "outputs": [],
   "source": [
    "patient_id = pid_segment[1]\n",
    "print(patient_id)"
   ]
  },
  {
   "cell_type": "code",
   "execution_count": null,
   "id": "9458bd42-0dd2-463f-9115-5ebd80b20f76",
   "metadata": {},
   "outputs": [],
   "source": [
    "## Save patient\n",
    "patient_epic = epic_client.reference(\"Patient\", patient_id).to_resource()\n",
    "patient_data = patient_epic.serialize()\n",
    "print(patient_data)"
   ]
  },
  {
   "cell_type": "code",
   "execution_count": null,
   "id": "cf7e9378-7c97-4136-a53f-da8a9bc25277",
   "metadata": {},
   "outputs": [],
   "source": [
    "patient_local = aidbox_client.resource(\"Patient\", id=patient_epic.id, name=patient_data[\"name\"], birthDate=patient_data[\"birthDate\"])\n",
    "patient_local.save()"
   ]
  },
  {
   "cell_type": "markdown",
   "id": "ded8d5ad-0374-4ab4-af92-49fee4355e8d",
   "metadata": {},
   "source": [
    "### Save all patients"
   ]
  },
  {
   "cell_type": "code",
   "execution_count": null,
   "id": "4cc43626-40a1-4559-a705-7caa861be40a",
   "metadata": {},
   "outputs": [],
   "source": [
    "# Sandbox test data\n",
    "# https://fhir.epic.com/Documentation?docId=testpatients\n",
    "\n",
    "# Camila Lopez *\n",
    "lopez_id = \"erXuFYUfucBZaryVksYEcMg3\"\n",
    "\n",
    "# Derrick Lin\n",
    "lin_id = \"eq081-VQEgP8drUUqCWzHfw3\"\n",
    "\n",
    "# Desiree Powell **\n",
    "powell_id = \"eAB3mDIBBcyUKviyzrxsnAw3\"\n",
    "\n",
    "# Elijah Davis\n",
    "davis_id = \"egqBHVfQlt4Bw3XGXoxVxHg3\"\n",
    "\n",
    "# Linda Ross **\n",
    "ross_id = \"eIXesllypH3M9tAA5WdJftQ3\"\n",
    "\n",
    "# Olivia Roberts\n",
    "roberts_id = \"eh2xYHuzl9nkSFVvV3osUHg3\"\n",
    "\n",
    "# Warren McGinnis * **\n",
    "mcginnis_id = \"e0w0LEDCYtfckT6N.CkJKCw3\"\n",
    "\n",
    "sandbox_patient_ids = [lopez_id, lin_id, powell_id, davis_id, ross_id, roberts_id, mcginnis_id]"
   ]
  },
  {
   "cell_type": "code",
   "execution_count": null,
   "id": "24fb6148-ccf3-4304-a05b-3fef3559b541",
   "metadata": {
    "scrolled": true
   },
   "outputs": [],
   "source": [
    "for patient_id in sandbox_patient_ids:\n",
    "    print(f\"{'-'*20} {patient_id} {'-'*20}\")\n",
    "    patient_epic = epic_client.reference(\"Patient\", patient_id).to_resource()\n",
    "    patient_data = patient_epic.serialize()\n",
    "    print(f\"Epic patient: {patient_epic}\")\n",
    "    print(f\"Patient data: {patient_data}\")\n",
    "    patient_local = aidbox_client.resource(\"Patient\", id=patient_epic.id, name=patient_data[\"name\"], birthDate=patient_data[\"birthDate\"])\n",
    "    patient_local.save()\n",
    "    print(f\"Local patient: {patient_local}\")"
   ]
  },
  {
   "cell_type": "code",
   "execution_count": null,
   "id": "afc267d0-f9fe-4069-adc3-74f8a443c247",
   "metadata": {},
   "outputs": [],
   "source": []
  },
  {
   "cell_type": "markdown",
   "id": "1885aafd-e085-4a61-947b-42848e881885",
   "metadata": {},
   "source": [
    "### Save Epic laboratory observations to the local FHIR server"
   ]
  },
  {
   "cell_type": "code",
   "execution_count": null,
   "id": "0af4d97e-dfdc-4307-a154-502e0b6d3da6",
   "metadata": {},
   "outputs": [],
   "source": [
    "# getting observations\n",
    "\n",
    "for patient_id in sandbox_patient_ids:\n",
    "    print(f\"{'-'*20} {patient_id} {'-'*20}\")\n",
    "    lab_list_epic = epic_client.resources(\"Observation\").search(patient=patient_id, category=\"laboratory\").fetch_all()\n",
    "    print(f\"Found labs: {len(lab_list_epic)}\")\n",
    "    for lab in lab_list_epic:\n",
    "        lab_data = lab.serialize()\n",
    "        print(f\"{'*'*20} {lab.id} {'*'*20}\")\n",
    "        print(lab_data)\n",
    "            \n",
    "        lab_local = aidbox_client.resource(\n",
    "            \"Observation\", \n",
    "            id=lab_data[\"id\"],\n",
    "            subject=lab_data[\"subject\"],\n",
    "            category=lab_data[\"category\"], \n",
    "            code=lab_data[\"code\"],\n",
    "            status=lab_data[\"status\"],\n",
    "            effectiveDateTime=lab_data[\"effectiveDateTime\"]\n",
    "        )\n",
    "        if lab_data.get(\"valueQuantity\"):\n",
    "            lab_local[\"valueQuantity\"] = lab_data.get(\"valueQuantity\")\n",
    "        if lab_data.get(\"valueString\"):\n",
    "            lab_local[\"valueString\"] = lab_data.get(\"valueString\")\n",
    "        \n",
    "        lab_local.save()"
   ]
  },
  {
   "cell_type": "markdown",
   "id": "d50b46de-64f5-415c-8619-35c62e65b40c",
   "metadata": {},
   "source": [
    "### Find patients with RBC results"
   ]
  },
  {
   "cell_type": "code",
   "execution_count": null,
   "id": "82614971-7869-415d-b3b3-6ccc3b375c8a",
   "metadata": {},
   "outputs": [],
   "source": [
    "RBC_LOINC_CODE = \"789-8\"\n",
    "\n",
    "rbc_results = aidbox_client.resources(\"Observation\").include(\"Observation\", \"subject\").search(code=RBC_LOINC_CODE).fetch_raw()\n",
    "print(rbc_results)"
   ]
  },
  {
   "cell_type": "markdown",
   "id": "3c914ef8-188c-45bf-b69f-8026eb761742",
   "metadata": {},
   "source": [
    "## Alternatives to ADT feed\n",
    "\n",
    "| |ADT feed|CDS Hooks|Patient List|Bulk API|\n",
    "|-|---------|---------|------------|--------|\n",
    "|Advantages|Widely supported in Epic|Depends on a use case, prefetch|FHIR API|No special setup from a hospital site|\n",
    "|Disadvantages|Additional setup required, need to parse|Additional setup required, not specific calls|Additional setup required|Not real-time, likely big amount of data exposed and transferred|"
   ]
  },
  {
   "cell_type": "code",
   "execution_count": null,
   "id": "6273b81c-80c5-462b-b1e4-6406b5c67c02",
   "metadata": {},
   "outputs": [],
   "source": [
    "#### CDS Hooks\n",
    "\n",
    "Documentation:\n",
    "- https://cds-hooks.org/specification/current/\n",
    "- https://open.epic.com/Interface/FHIR#CDSHooks\n",
    "\n",
    "Hook types:\n",
    "- patient-view\n",
    "- order-select\n",
    "- ..."
   ]
  },
  {
   "cell_type": "markdown",
   "id": "61f67fb7-4f27-429e-97e6-322b3a2be9b7",
   "metadata": {},
   "source": [
    "\n",
    "```\n",
    "curl\n",
    "  -X POST \\\n",
    "  -H 'Content-type: application/json' \\\n",
    "  --data @hook-details-see-example-below\n",
    "  \"http://<app_url>/<endpoint-to-handle-hook-call>\"\n",
    "\n",
    "{\n",
    "  \"hookInstance\": \"d1577c69-dfbe-44ad-ba6d-3e05e953b2ea\",\n",
    "  \"fhirServer\": \"http://hooks.smarthealthit.org:9080\",\n",
    "  \"hook\": \"patient-view\",\n",
    "  \"fhirAuthorization\": {\n",
    "    \"access_token\": \"some-opaque-fhir-access-token\",\n",
    "    \"token_type\": \"Bearer\",\n",
    "    \"expires_in\": 300,\n",
    "    \"scope\": \"user/Patient.read user/Observation.read\",\n",
    "    \"subject\": \"cds-service4\"\n",
    "  },\n",
    "  \"context\": {\n",
    "    \"userId\": \"Practitioner/example\",\n",
    "    \"patientId\": \"1288992\",\n",
    "    \"encounterId\": \"89284\"\n",
    "  },\n",
    "  \"prefetch\": {\n",
    "    \"patientToGreet\": {\n",
    "      \"resourceType\": \"Patient\",\n",
    "      \"gender\": \"male\",\n",
    "      \"birthDate\": \"1925-12-23\",\n",
    "      \"id\": \"1288992\",\n",
    "      \"active\": true\n",
    "    }\n",
    "  }\n",
    "}\n",
    "```"
   ]
  },
  {
   "cell_type": "code",
   "execution_count": null,
   "id": "b7d03f7b-fa2c-44e0-8630-0f1e0bc6f9f0",
   "metadata": {},
   "outputs": [],
   "source": [
    "https://fhir.epic.com/Documentation?docId=testpatients"
   ]
  },
  {
   "cell_type": "code",
   "execution_count": null,
   "id": "bc27f8c5-7459-4af1-85be-1b79dca8c760",
   "metadata": {},
   "outputs": [],
   "source": [
    "# Kick-off \n",
    "# https://fhir.epic.com/Sandbox?api=10169\n",
    "# https://hostname/instance/api/FHIR/R4/Group/eIscQb2HmqkT.aPxBKDR1mIj3721CpVk1suC7rlu3yX83/$export\n",
    "\n",
    "# Accept:application/fhir+json\n",
    "# Prefer:respond-async\n",
    "\n",
    "# Status request\n",
    "# https://fhir.epic.com/Sandbox?api=10170\n",
    "\n",
    "# https://hostname/instance/api/FHIR/BulkRequest/00000000001755C1C7DB51C0082DA988"
   ]
  },
  {
   "cell_type": "markdown",
   "id": "9d7c3b04-dbd1-4aaa-a07f-9aa58fbb5c03",
   "metadata": {},
   "source": [
    "## Let's overview what ve have done\n",
    "- We have found patients with specific observations.\n",
    "- We have got this data from Epic API\n",
    "- We have found limitations in Epic FHIR search API\n",
    "- We used alternatives - ADT feed to overcome these limitations"
   ]
  },
  {
   "cell_type": "markdown",
   "id": "eecd8c89-941f-40fa-93b1-b8c9e2966b65",
   "metadata": {},
   "source": [
    "## Let's discuss\n",
    "- Questions\n",
    "- Suggestions\n",
    "- Ideas"
   ]
  },
  {
   "cell_type": "markdown",
   "id": "eeff500c-b663-40c4-9580-3d04bf1f2d57",
   "metadata": {},
   "source": [
    "![image](img/DevDays-03-End.jpg)"
   ]
  },
  {
   "cell_type": "markdown",
   "id": "40df950c-df5e-42d2-9ccd-ffa4a542b71c",
   "metadata": {},
   "source": [
    "## Footnotes"
   ]
  },
  {
   "cell_type": "markdown",
   "id": "177189d2-c79e-4b45-85fc-2ab7719509ff",
   "metadata": {},
   "source": [
    "### Set up a FHIR Server\n",
    "\n",
    "There are two options how to setup Aidbox:\n",
    "- Cloud: https://docs.aidbox.app/overview/aidbox-user-portal\n",
    "- Local using docker: https://docs.aidbox.app/getting-started/run-aidbox/run-aidbox-locally-with-docker\n"
   ]
  },
  {
   "cell_type": "markdown",
   "id": "a88e434b-57ae-4e8d-b2be-b77cc829f04a",
   "metadata": {},
   "source": [
    "### Documentation references\n",
    "- https://fhir.epic.com/\n",
    "- https://open.epic.com/\n",
    "- https://github.com/beda-software/fhir-py"
   ]
  },
  {
   "cell_type": "markdown",
   "id": "dc0f2780-ed4b-48fa-b5f8-5cc5dc6bb32d",
   "metadata": {},
   "source": [
    "### Beda Software\n",
    "- https://beda.software/"
   ]
  },
  {
   "cell_type": "code",
   "execution_count": null,
   "id": "2ac7da59-eb06-4f8c-aef3-25b2efd81639",
   "metadata": {},
   "outputs": [],
   "source": []
  }
 ],
 "metadata": {
  "kernelspec": {
   "display_name": "Python 3 (ipykernel)",
   "language": "python",
   "name": "python3"
  },
  "language_info": {
   "codemirror_mode": {
    "name": "ipython",
    "version": 3
   },
   "file_extension": ".py",
   "mimetype": "text/x-python",
   "name": "python",
   "nbconvert_exporter": "python",
   "pygments_lexer": "ipython3",
   "version": "3.10.7"
  }
 },
 "nbformat": 4,
 "nbformat_minor": 5
}
